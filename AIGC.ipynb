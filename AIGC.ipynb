{
  "nbformat": 4,
  "nbformat_minor": 0,
  "metadata": {
    "colab": {
      "provenance": [],
      "gpuType": "T4"
    },
    "kernelspec": {
      "name": "python3",
      "display_name": "Python 3"
    },
    "language_info": {
      "name": "python"
    },
    "accelerator": "GPU"
  },
  "cells": [
    {
      "cell_type": "code",
      "execution_count": null,
      "metadata": {
        "id": "5OV6fndkImrq",
        "colab": {
          "base_uri": "https://localhost:8080/"
        },
        "outputId": "2500603f-c502-4149-c160-d9c6678d6343"
      },
      "outputs": [
        {
          "output_type": "stream",
          "name": "stdout",
          "text": [
            "\u001b[2K   \u001b[90m━━━━━━━━━━━━━━━━━━━━━━━━━━━━━━━━━━━━━━━━\u001b[0m \u001b[32m10.1/10.1 MB\u001b[0m \u001b[31m57.5 MB/s\u001b[0m eta \u001b[36m0:00:00\u001b[0m\n",
            "\u001b[2K   \u001b[90m━━━━━━━━━━━━━━━━━━━━━━━━━━━━━━━━━━━━━━━━\u001b[0m \u001b[32m6.9/6.9 MB\u001b[0m \u001b[31m70.3 MB/s\u001b[0m eta \u001b[36m0:00:00\u001b[0m\n",
            "\u001b[?25h"
          ]
        }
      ],
      "source": [
        "!pip install streamlit pyngrok pillow diffusers transformers accelerate --quiet"
      ]
    },
    {
      "cell_type": "code",
      "source": [
        "!wget https://sourceforge.net/projects/dclib/files/dlib/v18.10/shape_predictor_68_face_landmarks.dat.bz2/download -O shape_predictor_68_face_landmarks.dat.bz2\n",
        "!bzip2 -d shape_predictor_68_face_landmarks.dat.bz2\n"
      ],
      "metadata": {
        "colab": {
          "base_uri": "https://localhost:8080/"
        },
        "id": "SD4DsyrRIslQ",
        "outputId": "2f55e21e-6fb6-4574-ab4f-0e681a69c3de"
      },
      "execution_count": null,
      "outputs": [
        {
          "output_type": "stream",
          "name": "stdout",
          "text": [
            "--2025-09-24 16:04:05--  https://sourceforge.net/projects/dclib/files/dlib/v18.10/shape_predictor_68_face_landmarks.dat.bz2/download\n",
            "Resolving sourceforge.net (sourceforge.net)... 104.18.12.149, 104.18.13.149, 2606:4700::6812:d95, ...\n",
            "Connecting to sourceforge.net (sourceforge.net)|104.18.12.149|:443... connected.\n",
            "HTTP request sent, awaiting response... 302 Found\n",
            "Location: https://downloads.sourceforge.net/project/dclib/dlib/v18.10/shape_predictor_68_face_landmarks.dat.bz2?ts=gAAAAABo1BZ2Bv_6KMjWIYZAytaaBskOu-2rDSBq8QkH3i5M8kav3TXmCG0pqsYRjrW6K9kDWT10zVlZii20MZ9heh4LsPryDQ%3D%3D&use_mirror=pilotfiber&r= [following]\n",
            "--2025-09-24 16:04:06--  https://downloads.sourceforge.net/project/dclib/dlib/v18.10/shape_predictor_68_face_landmarks.dat.bz2?ts=gAAAAABo1BZ2Bv_6KMjWIYZAytaaBskOu-2rDSBq8QkH3i5M8kav3TXmCG0pqsYRjrW6K9kDWT10zVlZii20MZ9heh4LsPryDQ%3D%3D&use_mirror=pilotfiber&r=\n",
            "Resolving downloads.sourceforge.net (downloads.sourceforge.net)... 104.18.13.149, 104.18.12.149, 2606:4700::6812:c95, ...\n",
            "Connecting to downloads.sourceforge.net (downloads.sourceforge.net)|104.18.13.149|:443... connected.\n",
            "HTTP request sent, awaiting response... 302 Found\n",
            "Location: https://pilotfiber.dl.sourceforge.net/project/dclib/dlib/v18.10/shape_predictor_68_face_landmarks.dat.bz2?viasf=1 [following]\n",
            "--2025-09-24 16:04:06--  https://pilotfiber.dl.sourceforge.net/project/dclib/dlib/v18.10/shape_predictor_68_face_landmarks.dat.bz2?viasf=1\n",
            "Resolving pilotfiber.dl.sourceforge.net (pilotfiber.dl.sourceforge.net)... 216.158.133.250\n",
            "Connecting to pilotfiber.dl.sourceforge.net (pilotfiber.dl.sourceforge.net)|216.158.133.250|:443... connected.\n",
            "HTTP request sent, awaiting response... 200 OK\n",
            "Length: 64040097 (61M) [application/octet-stream]\n",
            "Saving to: ‘shape_predictor_68_face_landmarks.dat.bz2’\n",
            "\n",
            "shape_predictor_68_ 100%[===================>]  61.07M  26.3MB/s    in 2.3s    \n",
            "\n",
            "2025-09-24 16:04:09 (26.3 MB/s) - ‘shape_predictor_68_face_landmarks.dat.bz2’ saved [64040097/64040097]\n",
            "\n"
          ]
        }
      ]
    },
    {
      "cell_type": "code",
      "source": [
        "%%writefile app.py\n",
        "import streamlit as st\n",
        "from PIL import Image\n",
        "from io import BytesIO\n",
        "import torch\n",
        "import numpy as np\n",
        "from diffusers import StableDiffusionPipeline, StableDiffusionImg2ImgPipeline\n",
        "\n",
        "st.set_page_config(page_title=\"AI Face Generation & Transformation\", layout=\"centered\", page_icon=\"🧬\")\n",
        "\n",
        "# --- Custom Purple UI Styling (Updated Image Frame / No Light Background) ---\n",
        "st.markdown(\"\"\"\n",
        "    <style>\n",
        "      html, body, [class*=\"css\"] {\n",
        "        background-color: #2A017B !important;\n",
        "        color: #f1eaff !important;\n",
        "        font-family: 'Inter', sans-serif;\n",
        "      }\n",
        "      h1, h2, h3, h4, h5 {\n",
        "        color: #ffffff !important;\n",
        "      }\n",
        "      .stButton>button {\n",
        "        background: linear-gradient(135deg,#7b2ff7,#8b5cf6);\n",
        "        color: white;\n",
        "        font-weight: 600;\n",
        "        border-radius: 1rem;\n",
        "        padding: 0.8rem;\n",
        "        box-shadow: 0 6px 20px rgba(123,47,247,0.6);\n",
        "      }\n",
        "      .stButton>button:hover {\n",
        "        transform: translateY(-2px);\n",
        "        box-shadow: 0 8px 25px rgba(123,47,247,0.8);\n",
        "      }\n",
        "      .stTextInput>div>div>input {\n",
        "        border: 2px solid #7b2ff7;\n",
        "        border-radius: 0.5rem;\n",
        "        padding: 0.5rem;\n",
        "        color: #ffffff;\n",
        "        background-color: #3d1e6d;\n",
        "      }\n",
        "      .stSlider {\n",
        "        color: #ffffff !important;\n",
        "      }\n",
        "      .stFileUploader>div>div {\n",
        "        border: 2px dashed #7b2ff7;\n",
        "        border-radius: 0.75rem;\n",
        "        padding: 1.5rem;\n",
        "        text-align: center;\n",
        "        background-color: #f0eaff;\n",
        "        color: #3d1e6d;\n",
        "      }\n",
        "      .stImage {\n",
        "        background-color: transparent !important;\n",
        "        border-radius: 1rem;\n",
        "        padding: 0rem;\n",
        "        box-shadow: none !important;\n",
        "      }\n",
        "      img {\n",
        "        display: block;\n",
        "        margin-left: auto;\n",
        "        margin-right: auto;\n",
        "        border-radius: 0.75rem;\n",
        "        background-color: transparent !important;\n",
        "        box-shadow: none !important;\n",
        "      }\n",
        "    </style>\n",
        "\"\"\", unsafe_allow_html=True)\n",
        "\n",
        "st.title(\"🧬 AI Face Generation & Transformation\")\n",
        "\n",
        "# --- LOAD TEXT-TO-IMAGE MODEL ---\n",
        "@st.cache_resource(show_spinner=True)\n",
        "def load_text2img_model():\n",
        "    return StableDiffusionPipeline.from_pretrained(\n",
        "        \"runwayml/stable-diffusion-v1-5\",\n",
        "        torch_dtype=torch.float16,\n",
        "        safety_checker=None\n",
        "    ).to(\"cuda\")\n",
        "\n",
        "pipe_text2img = load_text2img_model()\n",
        "\n",
        "# --- LOAD IMAGE-TO-IMAGE MODEL (REAL AGING) ---\n",
        "@st.cache_resource(show_spinner=True)\n",
        "def load_img2img_model():\n",
        "    return StableDiffusionImg2ImgPipeline.from_pretrained(\n",
        "        \"runwayml/stable-diffusion-v1-5\",\n",
        "        torch_dtype=torch.float16,\n",
        "        safety_checker=None\n",
        "    ).to(\"cuda\")\n",
        "\n",
        "pipe_img2img = load_img2img_model()\n",
        "\n",
        "# --- IMAGE-TO-IMAGE UI ---\n",
        "st.subheader(\"⏳ Transform Age of a Face (Image-to-Image)\")\n",
        "st.markdown(\"<small>Upload a face image and choose a target age. A real AI model simulates aging or rejuvenation.</small>\", unsafe_allow_html=True)\n",
        "\n",
        "uploaded_file = st.file_uploader(\"📤 Upload a face image (JPG/PNG)\", type=[\"jpg\", \"jpeg\", \"png\"], key=\"img2img_upload\")\n",
        "if uploaded_file:\n",
        "    input_image = Image.open(BytesIO(uploaded_file.read())).convert(\"RGB\").resize((512, 512))\n",
        "    st.image(input_image, caption=\"📸 Uploaded Image\", use_column_width=True)\n",
        "\n",
        "    target_age = st.slider(\"🎚️ Select Target Age\", 10, 80, 40)\n",
        "    if st.button(\"🚀 Transform Age\", key=\"img2img_button\"):\n",
        "        with st.spinner(\"🌀 Applying transformation...\"):\n",
        "            prompt = f\"portrait of a {target_age}-year-old person, realistic, high quality, centered face\"\n",
        "            try:\n",
        "                result = pipe_img2img(\n",
        "                    prompt=prompt,\n",
        "                    image=input_image,\n",
        "                    strength=0.7,\n",
        "                    guidance_scale=8.5\n",
        "                )\n",
        "                output_image = result.images[0]\n",
        "                st.image(output_image, caption=f\"Transformed to age {target_age}\", use_column_width=True)\n",
        "                st.success(\"✅ Transformation complete!\")\n",
        "            except Exception as e:\n",
        "                st.error(f\"❌ Error during transformation: {e}\")\n",
        "\n",
        "st.markdown(\"---\")\n",
        "\n",
        "# --- TEXT-TO-IMAGE UI ---\n",
        "st.subheader(\"🎨 Generate a Face from Text\")\n",
        "prompt = st.text_input(\"📝 Describe the face (e.g., 'a 30-year-old woman with red curly hair')\")\n",
        "if st.button(\"🧠 Generate Image\") and prompt.strip():\n",
        "    enhanced_prompt = f\"portrait of {prompt}, ultra-realistic, photorealistic, highly detailed, sharp skin texture, symmetrical face, cinematic lighting, studio background\"\n",
        "    with st.spinner(\"✨ Generating... please wait\"):\n",
        "        try:\n",
        "            image = pipe_text2img(\n",
        "                prompt=enhanced_prompt,\n",
        "                num_inference_steps=40,\n",
        "                guidance_scale=8.5\n",
        "            ).images[0]\n",
        "            st.image(image, caption=f\"🎯 Generated from: '{prompt}'\", use_column_width=True)\n",
        "            st.success(\"✅ Image generation complete!\")\n",
        "        except Exception as e:\n",
        "            st.error(f\"❌ Generation failed: {e}\")\n"
      ],
      "metadata": {
        "colab": {
          "base_uri": "https://localhost:8080/"
        },
        "id": "_tvHJmscIswe",
        "outputId": "c3249d55-a950-44bf-e885-8c8f61f383c7"
      },
      "execution_count": null,
      "outputs": [
        {
          "output_type": "stream",
          "name": "stdout",
          "text": [
            "Writing app.py\n"
          ]
        }
      ]
    },
    {
      "cell_type": "code",
      "source": [
        "!nohup streamlit run app.py --server.port 8501 &> streamlit.log &\n",
        "import time\n",
        "time.sleep(5)"
      ],
      "metadata": {
        "id": "TVx3aon6I1Yj"
      },
      "execution_count": null,
      "outputs": []
    },
    {
      "cell_type": "code",
      "source": [
        "from pyngrok import ngrok\n",
        "import time\n",
        "\n",
        "ngrok.set_auth_token(\"2zwjE98sIIu88KJCizfH4BxyUNT_4EEGor7xgfKzgY31RShE6\")  # replace with your actual token or omit if none\n",
        "\n",
        "time.sleep(3)  # wait for Streamlit to fully start\n",
        "\n",
        "public_url = ngrok.connect(8501)\n",
        "print(f\"✅ Your app is live at: {public_url}\")"
      ],
      "metadata": {
        "colab": {
          "base_uri": "https://localhost:8080/"
        },
        "id": "XkyKIvDyIs79",
        "outputId": "85f2e96b-6378-4173-e64e-c2f46e7b2807"
      },
      "execution_count": null,
      "outputs": [
        {
          "output_type": "stream",
          "name": "stdout",
          "text": [
            "✅ Your app is live at: NgrokTunnel: \"https://852ff637d5b9.ngrok-free.app\" -> \"http://localhost:8501\"\n"
          ]
        }
      ]
    }
  ]
}